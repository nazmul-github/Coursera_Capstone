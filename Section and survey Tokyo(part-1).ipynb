{
    "cells": [
        {
            "cell_type": "markdown",
            "metadata": {},
            "source": "<h1>Survey Neighborhoods in Tokyo for Business Opportunities:Part 1</h1>\nSectioning Airbnb Neighborhoods in Tokyo: Survey the Surroundings for Business Venue<br>\nAnalysing FourSquare categories  : Find out a prospective Plan."
        },
        {
            "cell_type": "markdown",
            "metadata": {},
            "source": "## Table of Contents\n\n<div class=\"alert alert-block alert-info\" style=\"margin-top: 20px\">\n\n<font size = 3>\n\n## Table of Contents\n\n<div class=\"alert alert-block alert-info\" style=\"margin-top: 20px\">\n\n<font size = 3>\n    \n0.  <a href=\"#item0\">Introduction: Business Idea and Tools</a>\n\n1.  <a href=\"#item1\">Tokyo AirBnB data : section and survey</a>\n\n2.  <a href=\"#item2\">Scrape and wrangle the Population Dataset from wikipagee and merge</a>\n\n3.  <a href=\"#item3\">Explore the Neighborhoods: Olympic Statdium and business consideration.</a>\n    \n4.  <a href=\"#item4\">Summary</a>  \n    </font>\n    </div>"
        },
        {
            "cell_type": "markdown",
            "metadata": {},
            "source": "## 0.  <a id=\"item0\">Introduction: Business Idea and Tools</a>"
        },
        {
            "cell_type": "markdown",
            "metadata": {},
            "source": "<h2>Project Idea: Key issues</h2>\n\n<ul>\n    <li>1: Due to COVID-spread, Tokyo Olympic 2020 is postponed, and the new date is set at the end of July 2021. A huge number of tourists is expected to be flooded in the airbnb hotels, shooping streets, restaurants, bars.</li>\n    <li>2: Population of greater Tokyo is close to 40 Milions (To be precise, 38.14 Millions as of today), and it creates a potential cosumer market. Any survey on restaurant/food/bevrage business deserves merits for a study.\n </ul>\n The above Key issues set forth the mission of the project with the following project works.\n <ul>\n    <li>1: Sectioning Airbnb Neighborhoods in Tokyo: Survey the Surroundings around Airbnb hotels.</li>\n    <li>2: Count and compare the number of srestaurant baed on cusine and categories</li>\n    <li>3: Find a potential location for investment on Restaurant Business with specific set of cuisines.<br>\n</ul>\n\n<h3>Getting Started</h3>\nFoursquare API provides a range of tools for developers to incorporate the up-to-date location data to enhance their projects.\nTo start using Foursquare, a free acount provides a limited set of tools, which is resonably alright to proof my concept for the course assignment. \nTo start coding, first and foremost, import some necessary libraries: pandas.json(to tranforming json file into a pandas dataframe library), folium (plotting library), geopy.geocoders (module to convert an address into latitude and longitude values), and requests (library to handle http requests)."
        },
        {
            "cell_type": "code",
            "execution_count": 1,
            "metadata": {},
            "outputs": [],
            "source": "# Import libraries and packages\n\n#library list for airbnb data analysis\nfrom pathlib import Path\nimport numpy as np\nimport pandas as pd\nfrom pandas.api.types import is_string_dtype\nfrom pandas.api.types import is_numeric_dtype\nimport seaborn as sns\nimport matplotlib.pyplot as plt\nimport csv\nimport json\nimport geojson\nimport folium\nfrom folium import plugins\nfrom folium.plugins import FastMarkerCluster\nfrom folium.plugins import TimestampedGeoJson\nimport datetime\nimport geopandas as gpd\nimport geoplot\nimport geoplot.crs as gcrs\nimport geoplot as gplt\n\n#libraries for webpage scraping\nimport requests\nfrom bs4 import BeautifulSoup\n\n#libraries to convert address to latitude and longitudes\nfrom geopy.geocoders import Nominatim \n\n# libraries for displaying images\nfrom IPython.display import Image \nfrom IPython.core.display import HTML \n    \n# tranforming json file into a pandas dataframe library\nfrom pandas import json_normalize\n\n%matplotlib inline\n#!python --version #Python 3.7.8"
        },
        {
            "cell_type": "markdown",
            "metadata": {},
            "source": "## 1.  <a id=\"item1\">Tokyo AirBnB data : section and survey</a>"
        },
        {
            "cell_type": "markdown",
            "metadata": {},
            "source": "The open dataset Inside Airbnb databases allows grabbing only the necessary data for the analysis."
        },
        {
            "cell_type": "code",
            "execution_count": 2,
            "metadata": {
                "scrolled": true
            },
            "outputs": [],
            "source": "# Import listings data, load as pandas dataframe\nlistings_data = pd.read_csv('listings_june2020.csv')\n# Import reviews data, load as a pandas dataframe\nreviews_data = pd.read_csv('reviews_june2020.csv')\n# Load the geojson file required for mapping as a geodataframe\ntokyo_geo = gpd.GeoDataFrame.from_file('neighbourhoods_june2020.geojson')"
        },
        {
            "cell_type": "markdown",
            "metadata": {},
            "source": "<h2>data Preparation</h2>"
        },
        {
            "cell_type": "markdown",
            "metadata": {},
            "source": "Aggregate the data to find out the number of listings, average price, and latitude/longitude coordinate of each neighborhood. Next, in order for a more quantitative analysis, BeautifulSoup scraping tools is applied on the Special Wards of Tokyo Wikipedia page containing population and area data of the city\u2019s administrative 23 wards."
        },
        {
            "cell_type": "code",
            "execution_count": 3,
            "metadata": {},
            "outputs": [
                {
                    "data": {
                        "text/html": "<div>\n<style scoped>\n    .dataframe tbody tr th:only-of-type {\n        vertical-align: middle;\n    }\n\n    .dataframe tbody tr th {\n        vertical-align: top;\n    }\n\n    .dataframe thead th {\n        text-align: right;\n    }\n</style>\n<table border=\"1\" class=\"dataframe\">\n  <thead>\n    <tr style=\"text-align: right;\">\n      <th></th>\n      <th>id</th>\n      <th>name</th>\n      <th>host_id</th>\n      <th>host_name</th>\n      <th>neighbourhood_group</th>\n      <th>neighbourhood</th>\n      <th>latitude</th>\n      <th>longitude</th>\n      <th>room_type</th>\n      <th>price</th>\n      <th>minimum_nights</th>\n      <th>number_of_reviews</th>\n      <th>last_review</th>\n      <th>reviews_per_month</th>\n      <th>calculated_host_listings_count</th>\n      <th>availability_365</th>\n    </tr>\n  </thead>\n  <tbody>\n    <tr>\n      <th>0</th>\n      <td>35303</td>\n      <td>La Casa Gaienmae C Harajuku, Omotesando is nearby</td>\n      <td>151977</td>\n      <td>Miyuki</td>\n      <td>NaN</td>\n      <td>Shibuya Ku</td>\n      <td>35.67152</td>\n      <td>139.71203</td>\n      <td>Private room</td>\n      <td>4163</td>\n      <td>28</td>\n      <td>18</td>\n      <td>2018-07-28</td>\n      <td>0.17</td>\n      <td>3</td>\n      <td>89</td>\n    </tr>\n    <tr>\n      <th>1</th>\n      <td>197677</td>\n      <td>Oshiage Holiday Apartment</td>\n      <td>964081</td>\n      <td>Yoshimi &amp; Marek</td>\n      <td>NaN</td>\n      <td>Sumida Ku</td>\n      <td>35.71721</td>\n      <td>139.82596</td>\n      <td>Entire home/apt</td>\n      <td>10993</td>\n      <td>3</td>\n      <td>165</td>\n      <td>2020-03-04</td>\n      <td>1.55</td>\n      <td>1</td>\n      <td>300</td>\n    </tr>\n    <tr>\n      <th>2</th>\n      <td>289597</td>\n      <td>Private apt in central Tokyo #203</td>\n      <td>341577</td>\n      <td>Hide&amp;Kei</td>\n      <td>NaN</td>\n      <td>Nerima Ku</td>\n      <td>35.74267</td>\n      <td>139.65810</td>\n      <td>Entire home/apt</td>\n      <td>4163</td>\n      <td>28</td>\n      <td>113</td>\n      <td>2020-02-17</td>\n      <td>1.16</td>\n      <td>2</td>\n      <td>165</td>\n    </tr>\n    <tr>\n      <th>3</th>\n      <td>370759</td>\n      <td>Cozy flat #203, local area YET 10 mins to shib...</td>\n      <td>1573631</td>\n      <td>Gilles,Mayumi,Taiki</td>\n      <td>NaN</td>\n      <td>Setagaya Ku</td>\n      <td>35.66443</td>\n      <td>139.65707</td>\n      <td>Entire home/apt</td>\n      <td>7044</td>\n      <td>28</td>\n      <td>103</td>\n      <td>2020-04-16</td>\n      <td>1.35</td>\n      <td>3</td>\n      <td>361</td>\n    </tr>\n    <tr>\n      <th>4</th>\n      <td>700253</td>\n      <td>Private apt in central Tokyo #201</td>\n      <td>341577</td>\n      <td>Hide&amp;Kei</td>\n      <td>NaN</td>\n      <td>Nerima Ku</td>\n      <td>35.74264</td>\n      <td>139.65832</td>\n      <td>Entire home/apt</td>\n      <td>3949</td>\n      <td>28</td>\n      <td>104</td>\n      <td>2020-05-12</td>\n      <td>1.11</td>\n      <td>2</td>\n      <td>353</td>\n    </tr>\n  </tbody>\n</table>\n</div>",
                        "text/plain": "       id                                               name  host_id  \\\n0   35303  La Casa Gaienmae C Harajuku, Omotesando is nearby   151977   \n1  197677                          Oshiage Holiday Apartment   964081   \n2  289597                  Private apt in central Tokyo #203   341577   \n3  370759  Cozy flat #203, local area YET 10 mins to shib...  1573631   \n4  700253                  Private apt in central Tokyo #201   341577   \n\n             host_name  neighbourhood_group neighbourhood  latitude  \\\n0               Miyuki                  NaN    Shibuya Ku  35.67152   \n1      Yoshimi & Marek                  NaN     Sumida Ku  35.71721   \n2             Hide&Kei                  NaN     Nerima Ku  35.74267   \n3  Gilles,Mayumi,Taiki                  NaN   Setagaya Ku  35.66443   \n4             Hide&Kei                  NaN     Nerima Ku  35.74264   \n\n   longitude        room_type  price  minimum_nights  number_of_reviews  \\\n0  139.71203     Private room   4163              28                 18   \n1  139.82596  Entire home/apt  10993               3                165   \n2  139.65810  Entire home/apt   4163              28                113   \n3  139.65707  Entire home/apt   7044              28                103   \n4  139.65832  Entire home/apt   3949              28                104   \n\n  last_review  reviews_per_month  calculated_host_listings_count  \\\n0  2018-07-28               0.17                               3   \n1  2020-03-04               1.55                               1   \n2  2020-02-17               1.16                               2   \n3  2020-04-16               1.35                               3   \n4  2020-05-12               1.11                               2   \n\n   availability_365  \n0                89  \n1               300  \n2               165  \n3               361  \n4               353  "
                    },
                    "execution_count": 3,
                    "metadata": {},
                    "output_type": "execute_result"
                }
            ],
            "source": "#listings_data.columns\nlistings=listings_data[['id', 'name', 'host_id', 'host_name', 'neighbourhood_group',\n       'neighbourhood', 'latitude', 'longitude', 'room_type', 'price',\n       'minimum_nights', 'number_of_reviews', 'last_review',\n       'reviews_per_month', 'calculated_host_listings_count',\n       'availability_365']]\nlistings.head()"
        },
        {
            "cell_type": "markdown",
            "metadata": {},
            "source": "## 2. <a id=\"item2\">Scrape and wrangle the Population Dataset from wikipage and merge</a>"
        },
        {
            "cell_type": "markdown",
            "metadata": {},
            "source": "BeautifulSoup scraping tool is applied on the Special Wards of Tokyo Wikipedia page containing population and area data of the city\u2019s administrative 23 wards."
        },
        {
            "cell_type": "code",
            "execution_count": 13,
            "metadata": {},
            "outputs": [],
            "source": "response_obj = requests.get('https://en.wikipedia.org/wiki/Special_wards_of_Tokyo').text\nsoup = BeautifulSoup(response_obj,'lxml')\ntokyo_table = soup.find('table', {'class':'wikitable sortable'})"
        },
        {
            "cell_type": "code",
            "execution_count": 14,
            "metadata": {},
            "outputs": [],
            "source": "df = pd.DataFrame(columns=['No.', 'Flag', 'Neighborhood', 'Kanji',\n                           'Population', 'Density', 'Area_km2', 'Major'])\n\nfor row in tokyo_table.findAll(\"tr\"):\n    rows = []\n    for cell in row.find_all('td'):\n        rows.append(cell.text.lstrip('0').replace('\\n',''))\n    if len(rows) == 8:\n        df.loc[len(df)] = rows\n#df.head()"
        },
        {
            "cell_type": "code",
            "execution_count": 15,
            "metadata": {},
            "outputs": [],
            "source": "df['Population'] = df['Population'].str.replace(',','')\ndf['Area_km2'] = df['Area_km2'].astype(float)\ndf = df.sort_values(by=['Neighborhood'])[['Neighborhood','Population','Area_km2']].reset_index(drop=True)"
        },
        {
            "cell_type": "code",
            "execution_count": 16,
            "metadata": {},
            "outputs": [
                {
                    "data": {
                        "text/html": "<div>\n<style scoped>\n    .dataframe tbody tr th:only-of-type {\n        vertical-align: middle;\n    }\n\n    .dataframe tbody tr th {\n        vertical-align: top;\n    }\n\n    .dataframe thead th {\n        text-align: right;\n    }\n</style>\n<table border=\"1\" class=\"dataframe\">\n  <thead>\n    <tr style=\"text-align: right;\">\n      <th></th>\n      <th>neighbourhood</th>\n      <th>geometry</th>\n      <th>listings</th>\n      <th>price</th>\n      <th>Neighborhood</th>\n      <th>Population</th>\n      <th>Area_km2</th>\n    </tr>\n  </thead>\n  <tbody>\n    <tr>\n      <th>0</th>\n      <td>Adachi Ku</td>\n      <td>MULTIPOLYGON (((139.75560 35.81273, 139.76120 ...</td>\n      <td>193</td>\n      <td>8981.761658</td>\n      <td>Adachi</td>\n      <td>674067</td>\n      <td>53.25</td>\n    </tr>\n    <tr>\n      <th>1</th>\n      <td>Arakawa Ku</td>\n      <td>MULTIPOLYGON (((139.81450 35.73873, 139.80980 ...</td>\n      <td>381</td>\n      <td>30647.795276</td>\n      <td>Arakawa</td>\n      <td>213648</td>\n      <td>10.16</td>\n    </tr>\n    <tr>\n      <th>2</th>\n      <td>Bunkyo Ku</td>\n      <td>MULTIPOLYGON (((139.76109 35.73213, 139.76241 ...</td>\n      <td>153</td>\n      <td>24607.915033</td>\n      <td>Bunky\u014d</td>\n      <td>223389</td>\n      <td>11.29</td>\n    </tr>\n    <tr>\n      <th>3</th>\n      <td>Chiyoda Ku</td>\n      <td>MULTIPOLYGON (((139.77010 35.70526, 139.77310 ...</td>\n      <td>260</td>\n      <td>70955.011538</td>\n      <td>Chiyoda</td>\n      <td>59441</td>\n      <td>11.66</td>\n    </tr>\n    <tr>\n      <th>4</th>\n      <td>Chuo Ku</td>\n      <td>MULTIPOLYGON (((139.78889 35.69466, 139.79040 ...</td>\n      <td>598</td>\n      <td>40699.277592</td>\n      <td>Ch\u016b\u014d</td>\n      <td>147620</td>\n      <td>10.21</td>\n    </tr>\n  </tbody>\n</table>\n</div>",
                        "text/plain": "  neighbourhood                                           geometry  listings  \\\n0     Adachi Ku  MULTIPOLYGON (((139.75560 35.81273, 139.76120 ...       193   \n1    Arakawa Ku  MULTIPOLYGON (((139.81450 35.73873, 139.80980 ...       381   \n2     Bunkyo Ku  MULTIPOLYGON (((139.76109 35.73213, 139.76241 ...       153   \n3    Chiyoda Ku  MULTIPOLYGON (((139.77010 35.70526, 139.77310 ...       260   \n4       Chuo Ku  MULTIPOLYGON (((139.78889 35.69466, 139.79040 ...       598   \n\n          price Neighborhood Population  Area_km2  \n0   8981.761658       Adachi     674067     53.25  \n1  30647.795276      Arakawa     213648     10.16  \n2  24607.915033       Bunky\u014d     223389     11.29  \n3  70955.011538      Chiyoda      59441     11.66  \n4  40699.277592         Ch\u016b\u014d     147620     10.21  "
                    },
                    "execution_count": 16,
                    "metadata": {},
                    "output_type": "execute_result"
                }
            ],
            "source": "# Merge listings, price \ntokyo_merged_df = tokyo_geo.merge(df, left_index=True, right_index=True)\ntokyo_merged_df.head()"
        },
        {
            "cell_type": "markdown",
            "metadata": {},
            "source": "## 3. <a id=\"item3\">Explore the Neighborhoods: Olympic Statdium and business consideration.</a>"
        },
        {
            "cell_type": "markdown",
            "metadata": {},
            "source": "#### FOUR factors co consider: number of listings, average price, distance from olympic venue, and high population\n"
        },
        {
            "cell_type": "markdown",
            "metadata": {},
            "source": "### Define Foursquare Credentials and Version\n(Made this cell hidden while on on Github!)"
        },
        {
            "cell_type": "code",
            "execution_count": 18,
            "metadata": {},
            "outputs": [],
            "source": "# The code was removed by Watson Studio for sharing."
        },
        {
            "cell_type": "code",
            "execution_count": 19,
            "metadata": {},
            "outputs": [
                {
                    "name": "stdout",
                    "output_type": "stream",
                    "text": "35.6634677 139.668154\n"
                }
            ],
            "source": "#Address of Shimokitazawa-station in Setagaya City\naddress = '2-12 Kitazawa, Setagaya, Tokyo, Japan'\n\ngeolocator = Nominatim(user_agent=\"foursquare_agent\")\nlocation = geolocator.geocode(address)\nlatitude = location.latitude\nlongitude = location.longitude\nprint(latitude, longitude)"
        },
        {
            "cell_type": "markdown",
            "metadata": {},
            "source": "#### Now, let's assume that it is lunch time, and you are craving for italian or Italian food. So, let's define a query to search for food of your interest within 1000 metres from Shimokitaza station."
        },
        {
            "cell_type": "markdown",
            "metadata": {},
            "source": "#### Define URL"
        },
        {
            "cell_type": "code",
            "execution_count": 20,
            "metadata": {},
            "outputs": [
                {
                    "data": {
                        "text/plain": "'There are 100 around restaurants Shimokitazawa station.'"
                    },
                    "execution_count": 20,
                    "metadata": {},
                    "output_type": "execute_result"
                }
            ],
            "source": "radius = 1000\nurl = 'https://api.foursquare.com/v2/venues/explore?client_id={}&client_secret={}&ll={},{}&v={}&radius={}&limit={}'.format(\n    CLIENT_ID, CLIENT_SECRET, latitude, longitude, VERSION, radius, LIMIT)\nresults = requests.get(url).json()\n'There are {} around restaurants Shimokitazawa station.'.format(len(results['response']['groups'][0]['items']))"
        },
        {
            "cell_type": "markdown",
            "metadata": {},
            "source": "#### Get relevant part of JSON and transform it into a _pandas_ dataframe"
        },
        {
            "cell_type": "code",
            "execution_count": 21,
            "metadata": {},
            "outputs": [],
            "source": "# assign relevant part of JSON to venues\nitems = results['response']['groups'][0]['items']\n# tranform venues into a dataframe\ndataframe = json_normalize(items) # flatten JSON"
        },
        {
            "cell_type": "markdown",
            "metadata": {},
            "source": "## 4. <a id=\"item4\">Summary</a>"
        },
        {
            "cell_type": "markdown",
            "metadata": {},
            "source": "This assignment focused on the data preparation for the final assignment of the lecture series.<br>\n\nBased on AirBnB data analysis, the project will suggest for potential shopping streets that are close to Tokyo National Stadium, the main venue for Olympic2020. The considerations are, first and foremost, the average airBnB price is affordable while the location is only a few kilometers away from the main venue of Tokyo Olympic. Second, the area should have high population, which will support the continual growth of any new business. Hence, the business opportunity can be made scalable to sustain the growth after the olympic is over.<br>\n\nMeanwhile, the FourSquare datasets provided key analyses on the specific business. Due to COVID-19 spread and restricted human mobility, neighboring countries of Japan will be comprising the most of the visitors. keeping the scenario in mind and segmenting the food categoires into respective recepies, the popular cuisines will be itimized, and proposed for promising business investment. \n\n<br> Thank you very much."
        },
        {
            "cell_type": "code",
            "execution_count": null,
            "metadata": {},
            "outputs": [],
            "source": ""
        }
    ],
    "metadata": {
        "kernelspec": {
            "display_name": "my37env",
            "language": "python",
            "name": "my37env"
        },
        "language_info": {
            "codemirror_mode": {
                "name": "ipython",
                "version": 3
            },
            "file_extension": ".py",
            "mimetype": "text/x-python",
            "name": "python",
            "nbconvert_exporter": "python",
            "pygments_lexer": "ipython3",
            "version": "3.7.8"
        }
    },
    "nbformat": 4,
    "nbformat_minor": 4
}